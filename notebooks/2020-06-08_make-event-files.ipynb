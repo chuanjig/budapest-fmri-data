{
 "cells": [
  {
   "cell_type": "code",
   "execution_count": 72,
   "metadata": {},
   "outputs": [],
   "source": [
    "import numpy as np\n",
    "import pandas as pd\n",
    "from glob import glob"
   ]
  },
  {
   "cell_type": "code",
   "execution_count": 3,
   "metadata": {},
   "outputs": [],
   "source": [
    "with open('../scripts/preprocessing-stimulus/splits.txt') as f:\n",
    "    splits = f.readlines()"
   ]
  },
  {
   "cell_type": "code",
   "execution_count": 5,
   "metadata": {},
   "outputs": [],
   "source": [
    "def convert_to_seconds(hhmmss):\n",
    "    h, m, s = hhmmss.split(':')\n",
    "    s = float(h) * 3600 + float(m) * 60 + float(s)\n",
    "    return s"
   ]
  },
  {
   "cell_type": "code",
   "execution_count": 6,
   "metadata": {},
   "outputs": [],
   "source": [
    "splits = [s.strip().split() for s in splits]"
   ]
  },
  {
   "cell_type": "code",
   "execution_count": 7,
   "metadata": {},
   "outputs": [
    {
     "data": {
      "text/plain": [
       "[['00:45:22.899', '00:55:00.299'],\n",
       " ['00:54:50', '01:02:47.133'],\n",
       " ['01:02:27', '01:11:01.599'],\n",
       " ['01:10:50', '01:20:47.699'],\n",
       " ['01:20:37', '01:33:39.533']]"
      ]
     },
     "execution_count": 7,
     "metadata": {},
     "output_type": "execute_result"
    }
   ],
   "source": [
    "splits"
   ]
  },
  {
   "cell_type": "code",
   "execution_count": 8,
   "metadata": {},
   "outputs": [
    {
     "data": {
      "text/plain": [
       "2722.899"
      ]
     },
     "execution_count": 8,
     "metadata": {},
     "output_type": "execute_result"
    }
   ],
   "source": [
    "convert_to_seconds(splits[0][0])"
   ]
  },
  {
   "cell_type": "code",
   "execution_count": 9,
   "metadata": {},
   "outputs": [],
   "source": [
    "# I need to compute the following\n",
    "# 1. Duration of the clip\n",
    "# 2. Overlap of the old clip with new clip"
   ]
  },
  {
   "cell_type": "code",
   "execution_count": 17,
   "metadata": {},
   "outputs": [],
   "source": [
    "splits_s = np.array([[convert_to_seconds(ss) for ss in split] for split in splits])"
   ]
  },
  {
   "cell_type": "code",
   "execution_count": 53,
   "metadata": {},
   "outputs": [],
   "source": [
    "durations = np.round(np.diff(splits_s, 1))"
   ]
  },
  {
   "cell_type": "code",
   "execution_count": 54,
   "metadata": {},
   "outputs": [
    {
     "data": {
      "text/plain": [
       "array([[577.],\n",
       "       [477.],\n",
       "       [515.],\n",
       "       [598.],\n",
       "       [783.]])"
      ]
     },
     "execution_count": 54,
     "metadata": {},
     "output_type": "execute_result"
    }
   ],
   "source": [
    "durations"
   ]
  },
  {
   "cell_type": "code",
   "execution_count": 23,
   "metadata": {},
   "outputs": [
    {
     "data": {
      "text/plain": [
       "array([[2722.899, 3300.299],\n",
       "       [3290.   , 3767.133],\n",
       "       [3747.   , 4261.599],\n",
       "       [4250.   , 4847.699],\n",
       "       [4837.   , 5619.533]])"
      ]
     },
     "execution_count": 23,
     "metadata": {},
     "output_type": "execute_result"
    }
   ],
   "source": [
    "splits_s"
   ]
  },
  {
   "cell_type": "code",
   "execution_count": 28,
   "metadata": {},
   "outputs": [],
   "source": [
    "overlap = np.round(splits_s[:-1, 1] - splits_s[1:, 0])"
   ]
  },
  {
   "cell_type": "code",
   "execution_count": 32,
   "metadata": {},
   "outputs": [
    {
     "data": {
      "text/plain": [
       "[0, 10.0, 20.0, 12.0, 11.0]"
      ]
     },
     "execution_count": 32,
     "metadata": {},
     "output_type": "execute_result"
    }
   ],
   "source": [
    "overlap = [0] + overlap.tolist()\n",
    "overlap"
   ]
  },
  {
   "cell_type": "code",
   "execution_count": 85,
   "metadata": {},
   "outputs": [],
   "source": [
    "clip_start = 10.  # 10 s buffer at the beginning\n",
    "dfs = []\n",
    "for duration, over in zip(durations.ravel(), overlap):\n",
    "    records = []\n",
    "    onset = 0\n",
    "    if over != 0:\n",
    "        records.append({\n",
    "            'onset': onset + clip_start,\n",
    "            'duration': over,\n",
    "            'trial_type': 'overlap_with_previous_run'\n",
    "        })\n",
    "        onset = onset + over\n",
    "        duration = duration - over\n",
    "    records.append({\n",
    "        'onset': onset + clip_start,\n",
    "        'duration': duration,\n",
    "        'trial_type': 'movie'\n",
    "    })\n",
    "    dfs.append(pd.DataFrame.from_records(records))"
   ]
  },
  {
   "cell_type": "code",
   "execution_count": 86,
   "metadata": {},
   "outputs": [
    {
     "data": {
      "text/plain": [
       "array([[577.],\n",
       "       [477.],\n",
       "       [515.],\n",
       "       [598.],\n",
       "       [783.]])"
      ]
     },
     "execution_count": 86,
     "metadata": {},
     "output_type": "execute_result"
    }
   ],
   "source": [
    "durations"
   ]
  },
  {
   "cell_type": "code",
   "execution_count": 87,
   "metadata": {},
   "outputs": [
    {
     "name": "stdout",
     "output_type": "stream",
     "text": [
      "   onset  duration trial_type\n",
      "0   10.0     577.0      movie\n",
      "   onset  duration                 trial_type\n",
      "0   10.0      10.0  overlap_with_previous_run\n",
      "1   20.0     467.0                      movie\n",
      "   onset  duration                 trial_type\n",
      "0   10.0      20.0  overlap_with_previous_run\n",
      "1   30.0     495.0                      movie\n",
      "   onset  duration                 trial_type\n",
      "0   10.0      12.0  overlap_with_previous_run\n",
      "1   22.0     586.0                      movie\n",
      "   onset  duration                 trial_type\n",
      "0   10.0      11.0  overlap_with_previous_run\n",
      "1   21.0     772.0                      movie\n"
     ]
    }
   ],
   "source": [
    "for df in dfs:\n",
    "    print(df)"
   ]
  },
  {
   "cell_type": "code",
   "execution_count": 88,
   "metadata": {},
   "outputs": [],
   "source": [
    "n_trs_run = [\n",
    "    598,\n",
    "    498,\n",
    "    535,\n",
    "    618,\n",
    "    803\n",
    "]"
   ]
  },
  {
   "cell_type": "code",
   "execution_count": 89,
   "metadata": {},
   "outputs": [
    {
     "name": "stdout",
     "output_type": "stream",
     "text": [
      "597.0\n",
      "497.0\n",
      "535.0\n",
      "618.0\n",
      "803.0\n"
     ]
    }
   ],
   "source": [
    "for df in dfs:\n",
    "    print(df.onset[0] + np.sum(df.duration) + 10)"
   ]
  },
  {
   "cell_type": "code",
   "execution_count": 97,
   "metadata": {},
   "outputs": [],
   "source": [
    "subjects = sorted([s.split('/')[-1] for s in glob('../data/sub-*')])"
   ]
  },
  {
   "cell_type": "code",
   "execution_count": 98,
   "metadata": {},
   "outputs": [
    {
     "name": "stdout",
     "output_type": "stream",
     "text": [
      "sub-sid000005\n",
      "sub-sid000007\n",
      "sub-sid000009\n",
      "sub-sid000010\n",
      "sub-sid000013\n",
      "sub-sid000020\n",
      "sub-sid000021\n",
      "sub-sid000024\n",
      "sub-sid000025\n",
      "sub-sid000029\n",
      "sub-sid000030\n",
      "sub-sid000034\n",
      "sub-sid000050\n",
      "sub-sid000052\n",
      "sub-sid000055\n",
      "sub-sid000114\n",
      "sub-sid000120\n",
      "sub-sid000134\n",
      "sub-sid000142\n",
      "sub-sid000278\n",
      "sub-sid000416\n",
      "sub-sid000499\n",
      "sub-sid000522\n",
      "sub-sid000535\n",
      "sub-sid000560\n"
     ]
    }
   ],
   "source": [
    "for s in subjects:\n",
    "    print(s)\n",
    "    events = sorted(glob(f\"../data/{s}/func/*events.tsv\"))\n",
    "    for ev, df in zip(events, dfs):\n",
    "        df.to_csv(ev, sep='\\t', index=None)"
   ]
  }
 ],
 "metadata": {
  "kernelspec": {
   "display_name": "Python 3",
   "language": "python",
   "name": "python3"
  },
  "language_info": {
   "codemirror_mode": {
    "name": "ipython",
    "version": 3
   },
   "file_extension": ".py",
   "mimetype": "text/x-python",
   "name": "python",
   "nbconvert_exporter": "python",
   "pygments_lexer": "ipython3",
   "version": "3.7.6"
  }
 },
 "nbformat": 4,
 "nbformat_minor": 4
}
